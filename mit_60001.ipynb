{
  "nbformat": 4,
  "nbformat_minor": 0,
  "metadata": {
    "colab": {
      "provenance": [],
      "collapsed_sections": [
        "GKqIQlk1yk7e",
        "ibwYxq7XyqK1",
        "avF3e5iOcdlK",
        "NH4nRECCex_9",
        "TEvBc5x-ZR0I",
        "6SuMuRKMd4uD",
        "_xTy5yxax8RB",
        "WoIpyXhaBmXk",
        "RIAkjZY2SBBL",
        "RuJvz9gi4C1r"
      ],
      "authorship_tag": "ABX9TyN29JrRGkWtXgWE9khUP98e",
      "include_colab_link": true
    },
    "kernelspec": {
      "name": "python3",
      "display_name": "Python 3"
    },
    "language_info": {
      "name": "python"
    }
  },
  "cells": [
    {
      "cell_type": "markdown",
      "metadata": {
        "id": "view-in-github",
        "colab_type": "text"
      },
      "source": [
        "<a href=\"https://colab.research.google.com/gist/NewmoodClown/d55565b212fc8238c1fcffd28a5404f2/mit_60001.ipynb\" target=\"_parent\"><img src=\"https://colab.research.google.com/assets/colab-badge.svg\" alt=\"Open In Colab\"/></a>"
      ]
    },
    {
      "cell_type": "markdown",
      "source": [
        "## 3. String Manipulation, Guess and Check, Approximations, Bisection"
      ],
      "metadata": {
        "id": "GKqIQlk1yk7e"
      }
    },
    {
      "cell_type": "markdown",
      "source": [
        "###Strings\n",
        "Strings have indexes starting from 0. suppose we have ``s='abc'`` then ``s[0]=\"a\"`` and from the reverse we start from ``-1`` such that ``s[-1]=\"c\"`` and so ``s[1]=s[-2]=\"b\"`` \\\\\n",
        "We can also slice using strings, suppose we have ``s=abcdefgh`` then we can pass three parameters such that ``string[start:stop:step]`` which starts at the ``start`` index, takes us to the ``stop -1`` index with an increment of ``step``."
      ],
      "metadata": {
        "id": "ibwYxq7XyqK1"
      }
    },
    {
      "cell_type": "code",
      "execution_count": null,
      "metadata": {
        "colab": {
          "base_uri": "https://localhost:8080/"
        },
        "id": "u7zpsxkzygbM",
        "outputId": "806cab64-0d87-4d69-b4e7-d6ce26481450"
      },
      "outputs": [
        {
          "output_type": "stream",
          "name": "stdout",
          "text": [
            "cd\n",
            "ce\n"
          ]
        }
      ],
      "source": [
        "s=\"abcdefgh\"\n",
        "print(s[2:4])\n",
        "print(s[2:6:2])"
      ]
    },
    {
      "cell_type": "markdown",
      "source": [
        "Strings are immutable. Once the values are assigned to string index we cannot change it. However we can change the string itself. Look at the following code block for example:\n",
        "```python\n",
        "s = \"hello\"\n",
        "s[0] = \"y\" #this will give an error\n",
        "s = 'y' + s[1:len(s)] #this works fine\n",
        "```"
      ],
      "metadata": {
        "id": "xN4lbzOd1UyY"
      }
    },
    {
      "cell_type": "markdown",
      "source": [
        "### Code for lecture 3 :"
      ],
      "metadata": {
        "id": "avF3e5iOcdlK"
      }
    },
    {
      "cell_type": "code",
      "source": [
        "# EXAMPLE: for loops over strings\n",
        "s = \"demo loops\"\n",
        "for index in range(len(s)):\n",
        "    if s[index] == 'i' or s[index] == 'u':\n",
        "        print(\"There is an i or u\")\n",
        "\n",
        "for char in s:\n",
        "    if char == 'i' or char == 'u':\n",
        "        print(\"There is an i or u\")   "
      ],
      "metadata": {
        "id": "WtANTv3R0qE2"
      },
      "execution_count": null,
      "outputs": []
    },
    {
      "cell_type": "code",
      "source": [
        "## EXAMPLE: while loops and strings\n",
        "# CHALLENGE: rewrite while loop with a for loop\n",
        "an_letters = \"aefhilmnorsxAEFHILMNORSX\"\n",
        "word = input(\"I will cheer for you! Enter a word: \")\n",
        "times = int(input(\"Enthusiasm level (1-10): \"))\n",
        "\n",
        "i = 0\n",
        "while i < len(word):\n",
        "    char = word[i]\n",
        "    if char in an_letters:\n",
        "        print(\"Give me an \" + char + \"! \" + char)\n",
        "    else:\n",
        "        print(\"Give me a  \" + char + \"! \" + char)\n",
        "    i += 1\n",
        "print(\"What does that spell?\")\n",
        "for i in range(times):\n",
        "    print(word, \"!!!\")"
      ],
      "metadata": {
        "id": "fI-SlRs-c4LG"
      },
      "execution_count": null,
      "outputs": []
    },
    {
      "cell_type": "code",
      "source": [
        "## EXAMPLE: perfect cube \n",
        "#cube = 27\n",
        "cube = 8120601\n",
        "for guess in range(cube+1):\n",
        "    if guess**3 == cube:\n",
        "        print(\"Cube root of\", cube, \"is\", guess)\n",
        "        # loops keeps going even after found the cube root"
      ],
      "metadata": {
        "id": "nagkuuwnc-Ye"
      },
      "execution_count": null,
      "outputs": []
    },
    {
      "cell_type": "code",
      "source": [
        "## EXAMPLE: guess and check cube root \n",
        "#cube = 27\n",
        "cube = 8120601\n",
        "for guess in range(abs(cube)+1):\n",
        "    # passed all potential cube roots\n",
        "    if guess**3 >= abs(cube):\n",
        "        # no need to keep searching\n",
        "        break\n",
        "if guess**3 != abs(cube):\n",
        "    print(cube, 'is not a perfect cube')\n",
        "else:\n",
        "    if cube < 0:\n",
        "        guess = -guess\n",
        "    print('Cube root of ' + str(cube) + ' is ' + str(guess))"
      ],
      "metadata": {
        "id": "duzfily8dF1H"
      },
      "execution_count": null,
      "outputs": []
    },
    {
      "cell_type": "code",
      "source": [
        "## EXAMPLE: approximate cube root \n",
        "#cube = 27\n",
        "##cube = 8120601\n",
        "cube = 10000\n",
        "epsilon = 0.1\n",
        "guess = 0.0\n",
        "increment = 0.01\n",
        "num_guesses = 0\n",
        "## look for close enough answer and make sure\n",
        "## didn't accidentally skip the close enough bound\n",
        "while abs(guess**3 - cube) >= epsilon and guess <= cube:\n",
        "    guess += increment\n",
        "    num_guesses += 1\n",
        "print('num_guesses =', num_guesses)\n",
        "if abs(guess**3 - cube) >= epsilon:\n",
        "    print('Failed on cube root of', cube, \"with these parameters.\")\n",
        "else:\n",
        "    print(guess, 'is close to the cube root of', cube)"
      ],
      "metadata": {
        "id": "3q3Ut7dKdI94"
      },
      "execution_count": null,
      "outputs": []
    },
    {
      "cell_type": "code",
      "source": [
        "## EXAMPLE: bisection cube root (only positive cubes!)\n",
        "cube = 27\n",
        "cube = 8120601\n",
        "## won't work with x < 1 because initial upper bound is less than ans\n",
        "cube = 0.25\n",
        "epsilon = 0.01\n",
        "num_guesses = 0\n",
        "low = 0\n",
        "high = cube\n",
        "guess = (high + low)/2.0\n",
        "while abs(guess**3 - cube) >= epsilon:\n",
        "    if guess**3 < cube:\n",
        "        # look only in upper half search space\n",
        "        low = guess\n",
        "    else:\n",
        "        # look only in lower half search space\n",
        "        high = guess\n",
        "    # next guess is halfway in search space\n",
        "    guess = (high + low)/2.0\n",
        "    num_guesses += 1\n",
        "print('num_guesses =', num_guesses)\n",
        "print(guess, 'is close to the cube root of', cube)"
      ],
      "metadata": {
        "id": "f_ZI7s-zdK6P"
      },
      "execution_count": null,
      "outputs": []
    },
    {
      "cell_type": "markdown",
      "source": [
        "## 4. Decomposition, Abstraction, and Functions"
      ],
      "metadata": {
        "id": "NH4nRECCex_9"
      }
    },
    {
      "cell_type": "markdown",
      "source": [
        "We write reusable pieces/chunks of code called funcitons. Functions are not run in a program until they are called or invoked in a program. A function has a name, parameters, docstring, body and it returns something. \\\\\n",
        "If we do not specify return statements, python returns ``None`` by default representing absence of a value. ``NOTE: None is not a string``\n",
        "\n",
        "We have a global scope of the program, when a function is called, we enter the function scope, when we enter a function scope, we first map the parameters, any variable inside function scope is independent of the global scope."
      ],
      "metadata": {
        "id": "3yISrydggH1b"
      }
    },
    {
      "cell_type": "code",
      "source": [
        "def f(y):\n",
        "  x = 1\n",
        "  x += 1\n",
        "  print(x)\n",
        "\n",
        "x = 5\n",
        "f(x)\n",
        "print(x)"
      ],
      "metadata": {
        "colab": {
          "base_uri": "https://localhost:8080/"
        },
        "id": "ltTGg4YAV2ZI",
        "outputId": "38ea937f-3e3d-49e3-c4b9-8e0044def7de"
      },
      "execution_count": null,
      "outputs": [
        {
          "output_type": "stream",
          "name": "stdout",
          "text": [
            "2\n",
            "5\n"
          ]
        }
      ]
    },
    {
      "cell_type": "markdown",
      "source": [
        "However, if a variable is not initalised inside the funciton scope, we temporarily hop out, enter the scope of the call and check if the variable was initalised. The following code serves as an example to this:"
      ],
      "metadata": {
        "id": "kuhu_yqvUwTk"
      }
    },
    {
      "cell_type": "code",
      "source": [
        "def g(y):\n",
        "  print(x)\n",
        "  print(x+1)\n",
        "\n",
        "x=5\n",
        "g(x)\n",
        "print(x)"
      ],
      "metadata": {
        "colab": {
          "base_uri": "https://localhost:8080/"
        },
        "id": "11vMuuv8NyGP",
        "outputId": "9fefe808-ca3e-4f60-bdb3-245d63e649ca"
      },
      "execution_count": null,
      "outputs": [
        {
          "output_type": "stream",
          "name": "stdout",
          "text": [
            "5\n",
            "6\n",
            "5\n"
          ]
        }
      ]
    },
    {
      "cell_type": "markdown",
      "source": [
        "**NOTE** that inside a function we can **access the variables defined outside, but we cannot modify them**. Hence altho the above code is valid, the below generates an ``UnboundLocalError``"
      ],
      "metadata": {
        "id": "nlZ7wZhbVBsV"
      }
    },
    {
      "cell_type": "code",
      "source": [
        "def h(y):\n",
        "  x += 1\n",
        "x = 5\n",
        "h(x)\n",
        "print(x)"
      ],
      "metadata": {
        "id": "RhVpu9beVe36"
      },
      "execution_count": null,
      "outputs": []
    },
    {
      "cell_type": "markdown",
      "source": [
        "The following examples helps understand scopes:\n",
        "```python\n",
        "def add(x,y):\n",
        "  return x+y\n",
        "def mult(x,y):\n",
        "  print(x*y)\n",
        "\n",
        "add(1,2) #this line prints nothing\n",
        "print(add(2,3)) #this prints 5\n",
        "mult(3,4) #this prints 12\n",
        "print(mult(4,5)) #this prints 20 as mult(4,5) is called and also None as return statement is not specified.\n",
        "```"
      ],
      "metadata": {
        "id": "3gy_n_GCXrNS"
      }
    },
    {
      "cell_type": "markdown",
      "source": [
        "## 5. Tuples, Lists, Aliasing, Mutability, and Cloning"
      ],
      "metadata": {
        "id": "TEvBc5x-ZR0I"
      }
    },
    {
      "cell_type": "markdown",
      "source": [
        "### Tuples\n"
      ],
      "metadata": {
        "id": "6SuMuRKMd4uD"
      }
    },
    {
      "cell_type": "markdown",
      "source": [
        "An ordered sequence of elemets, can mix element types. Tuples are immutable,one cannot change element values. They are represented with parentheses. ``t=()`` is a tuple. Tuples also have indexes and they can be sliced. \\\\\n",
        "Tuples are also often used to swap variable values.\n",
        "```python\n",
        "temp = x\n",
        "x = y\n",
        "y =temp \n",
        "```\n",
        "The below code block swaps variable values using tuples:\n",
        "```python\n",
        "(x,y) = (y,x)\n",
        "```\n",
        "We can also return more than one value in a function using tuples. (In a way we return only one value that is a tuple) \\\\\n",
        "We can iterate over tuples."
      ],
      "metadata": {
        "id": "ktj8GYu2k7eQ"
      }
    },
    {
      "cell_type": "code",
      "source": [
        "def get_data(aTuple):\n",
        "    \"\"\"\n",
        "    aTuple, tuple of tuples (int, string)\n",
        "    Extracts all integers from aTuple and sets \n",
        "    them as elements in a new tuple. \n",
        "    Extracts all unique strings from from aTuple \n",
        "    and sets them as elements in a new tuple.\n",
        "    Returns a tuple of the minimum integer, the\n",
        "    maximum integer, and the number of unique strings\n",
        "    \"\"\"\n",
        "    nums = ()    # empty tuple\n",
        "    words = ()\n",
        "    for t in aTuple:\n",
        "        # concatenating with a singleton tuple\n",
        "        nums = nums + (t[0],)   \n",
        "        # only add words haven't added before\n",
        "        if t[1] not in words:   \n",
        "            words = words + (t[1],)\n",
        "    min_n = min(nums)\n",
        "    max_n = max(nums)\n",
        "    unique_words = len(words)\n",
        "    return (min_n, max_n, unique_words)\n",
        "\n",
        "test = ((1,\"a\"),(2, \"b\"),\n",
        "        (1,\"a\"),(7,\"b\"))\n",
        "(a, b, c) = get_data(test)\n",
        "print(\"a:\",a,\"b:\",b,\"c:\",c)\n",
        "\n",
        "# apply to any data you want!\n",
        "tswift = ((2014,\"Katy\"),\n",
        "          (2014, \"Harry\"),\n",
        "          (2012,\"Jake\"), \n",
        "          (2010,\"Taylor\"), \n",
        "          (2008,\"Joe\"))    \n",
        "(min_year, max_year, num_people) = get_data(tswift)\n",
        "print(\"From\", min_year, \"to\", max_year, \\\n",
        "        \"Taylor Swift wrote songs about\", num_people, \"people!\")"
      ],
      "metadata": {
        "colab": {
          "base_uri": "https://localhost:8080/"
        },
        "id": "lgyhnhDTYu5m",
        "outputId": "cd808364-65b1-41ad-be06-b5e9f515706a"
      },
      "execution_count": null,
      "outputs": [
        {
          "output_type": "stream",
          "name": "stdout",
          "text": [
            "a: 1 b: 7 c: 2\n",
            "From 2008 to 2014 Taylor Swift wrote songs about 5 people!\n"
          ]
        }
      ]
    },
    {
      "cell_type": "markdown",
      "source": [
        "### Lists"
      ],
      "metadata": {
        "id": "MxKJH0cQ2ENo"
      }
    },
    {
      "cell_type": "markdown",
      "source": [
        "List can be initialised as ``a_list =[]``. \\\\\n",
        "Lists also have indexes. Slicing works the same way as in string and tuples. \\\\\n",
        "Lists are mutable.\n",
        "We can executre the following code:\n",
        "```python\n",
        "L = [2,3,5]\n",
        "L[0] = 5 #so L now becomes [5,3,5]\n",
        "```\n",
        "It is better to iterate over elements directly instead of their indexes when iterating. For example, there are two code blocks below, the second one is preferred (more pythonic).\n",
        "```python\n",
        "total = 0\n",
        "for i in range(len(L)):\n",
        "  total += L[i]\n",
        "print(total)\n",
        "```\n",
        "```python\n",
        "total = 0\n",
        "for i in L:\n",
        "  total  +=  i\n",
        "print(total)\n",
        "```\n"
      ],
      "metadata": {
        "id": "by4WeQX22HCV"
      }
    },
    {
      "cell_type": "markdown",
      "source": [
        "- We can append elements to list using the cmd ``L.append(element)`` (which also mutates the list). \\\\\n",
        "- Delete element at a specific index ``del(L[index])``. \\\\\n",
        "- Remove an element at the end of a list L and returns the removed element, ``L.pop()``. \\\\\n",
        "- Remove a specified element from a list L, ``L.remove(element)``. (If element has occured multiple times it removes the first occurence and if element not in list, gives error.)\n",
        "- ``sorted(L)`` sorts the list and returns the new sorted list (assigned to a variable). Does not mutate L.\n",
        "- ``L.sort()`` sorts the list, mutates L.\n",
        "-``L.reverse()`` reverses the list, mutates L."
      ],
      "metadata": {
        "id": "GaHO3a_539HS"
      }
    },
    {
      "cell_type": "markdown",
      "source": [
        "#### Converting lists to strings and back"
      ],
      "metadata": {
        "id": "XV0TT32vBcFp"
      }
    },
    {
      "cell_type": "markdown",
      "source": [
        "- We can use ``list(s)`` to convert a string s into list, this returns a list with every character in s as a separate element in list.\n",
        "- We can use ``s.split()`` to split the characters of a string on the passed parameter and return list of the same.\n",
        "- ``''.join(L)`` turns a list L into strings, can pass a character in quotes to add that character between every character in the string (such as ``'_'.join(L)``).\n",
        "\n"
      ],
      "metadata": {
        "id": "q-lvu2oEBfuR"
      }
    },
    {
      "cell_type": "code",
      "source": [
        "a = 1\n",
        "b = a\n",
        "print(a)\n",
        "print(b)\n",
        "\n",
        "hot = ['red','blue','orange']\n",
        "warm = hot\n",
        "warm.append('pink')\n",
        "print(warm)\n",
        "print(hot)"
      ],
      "metadata": {
        "id": "9LQkDW3m9sPR",
        "colab": {
          "base_uri": "https://localhost:8080/"
        },
        "outputId": "e9e7c415-ba69-4be8-c8d6-3ef6fb688839"
      },
      "execution_count": null,
      "outputs": [
        {
          "output_type": "stream",
          "name": "stdout",
          "text": [
            "1\n",
            "1\n",
            "['red', 'blue', 'orange', 'pink']\n",
            "['red', 'blue', 'orange', 'pink']\n"
          ]
        }
      ]
    },
    {
      "cell_type": "markdown",
      "source": [
        "**NOTE:** How the both lists change in the above code block because lists are mutable.\n",
        "We can clone a list to prevent this, as shown in the next code block."
      ],
      "metadata": {
        "id": "CXatFUO2vaY1"
      }
    },
    {
      "cell_type": "code",
      "source": [
        "hot = ['red','blue','orange']\n",
        "heated = hot[:]\n",
        "heated.append('pink')\n",
        "print(heated)\n",
        "print(hot)"
      ],
      "metadata": {
        "colab": {
          "base_uri": "https://localhost:8080/"
        },
        "id": "WWcGBwm4vqwu",
        "outputId": "8eef420b-085c-4678-b6f9-4eceb4729483"
      },
      "execution_count": null,
      "outputs": [
        {
          "output_type": "stream",
          "name": "stdout",
          "text": [
            "['red', 'blue', 'orange', 'pink']\n",
            "['red', 'blue', 'orange']\n"
          ]
        }
      ]
    },
    {
      "cell_type": "markdown",
      "source": [
        "***Avoid mutating a list while iterating over it*** \\\\\n",
        "First create a copy of the list, and then iterate, following is an exmple to illustrate the same.\n",
        "The code block right below, is wrong, the code block next to it, is the correct way.\n",
        "```python\n",
        "def remove_dups(L1, L2):\n",
        "  for e in L1:\n",
        "    if e in L2:\n",
        "      L1.remove(e)\n",
        "```\n",
        "```python\n",
        "def remove_dups(L1, L2):\n",
        "  copy_L1 = L1[:]\n",
        "  for e in copy_L1:\n",
        "    if e in L2:\n",
        "      L1.remove(e)\n",
        "```"
      ],
      "metadata": {
        "id": "uOWA3EOpx0v3"
      }
    },
    {
      "cell_type": "markdown",
      "source": [
        "## 6. Recursion and Dictionaries"
      ],
      "metadata": {
        "id": "_xTy5yxax8RB"
      }
    },
    {
      "cell_type": "markdown",
      "source": [
        "Algorithmically: A way to design solutions to problems by divide-and-conquer or decrease-and-conquer (reduce a problem tosimpler versions of the same problem). \\\\\n",
        "\n",
        "Semantically: A programming techinique where a function calls itself.\n",
        "  - in programming goal is to not have an infinite recursion\n",
        "  - must have 1 or moer base cases that are easy to solve\n",
        "  \n",
        "Each recursive call creates its own frame/scope./environment."
      ],
      "metadata": {
        "id": "oYF8-ljC3X_q"
      }
    },
    {
      "cell_type": "code",
      "source": [
        "#factorial recursion\n",
        "def fact(n):\n",
        "  if n ==1:\n",
        "    return 1\n",
        "  else:\n",
        "    return n*fact(n-1)\n",
        "print(fact(4))"
      ],
      "metadata": {
        "colab": {
          "base_uri": "https://localhost:8080/"
        },
        "id": "tGJ9xTVqSzDM",
        "outputId": "0af2c358-1b90-41a7-b575-d59670534f67"
      },
      "execution_count": null,
      "outputs": [
        {
          "output_type": "stream",
          "name": "stdout",
          "text": [
            "24\n"
          ]
        }
      ]
    },
    {
      "cell_type": "code",
      "source": [
        "#Tower of Hanoi problem recursion\n",
        "def printMove(fr,to):\n",
        "  print('move from ' +  str(fr) + ' to ' + str(to))\n",
        "def Towers(n, fr, to ,spare):\n",
        "  if n==1:\n",
        "    printMove(fr,to)\n",
        "  else:\n",
        "    Towers(n-1,fr,spare,to)\n",
        "    Towers(1,fr,to,spare)\n",
        "    Towers(n-1,spare,to,fr)"
      ],
      "metadata": {
        "id": "V4JrL_tbXoYW"
      },
      "execution_count": null,
      "outputs": []
    },
    {
      "cell_type": "code",
      "source": [
        "#Fibonaci rabbit problem recursion\n",
        "def fib(x):\n",
        "  if x==1 or x==0:\n",
        "    return 1\n",
        "  else:\n",
        "    return fib(x-1)+fib(x-2)"
      ],
      "metadata": {
        "id": "9loxSKh4ZF6e"
      },
      "execution_count": null,
      "outputs": []
    },
    {
      "cell_type": "code",
      "source": [
        "#Palindrome sentences testing recursion\n",
        "\n",
        "def tochars(s):\n",
        "  s = s.lower()\n",
        "  ans = ''\n",
        "  for c in s:\n",
        "    if c in 'abcdefghijklmnopqrstuvwxyz':\n",
        "      ans = ans + c\n",
        "  return ans\n",
        "\n",
        "def isPal(s):\n",
        "  if len(s) <= 1:\n",
        "    return True\n",
        "  else: \n",
        "    return s[0] == s[-1] and isPal(s[1:-1])\n",
        "  return isPal(tochars(s))\n",
        "\n",
        "print(isPal(tochars(\"Do geese see God?\")))"
      ],
      "metadata": {
        "colab": {
          "base_uri": "https://localhost:8080/"
        },
        "id": "14fYgQuXaplH",
        "outputId": "6be3af68-11a2-4c20-ad30-12d88dbc62a8"
      },
      "execution_count": null,
      "outputs": [
        {
          "output_type": "stream",
          "name": "stdout",
          "text": [
            "True\n"
          ]
        }
      ]
    },
    {
      "cell_type": "markdown",
      "source": [
        "### Dictionary"
      ],
      "metadata": {
        "id": "3qdrgbDm69gN"
      }
    },
    {
      "cell_type": "markdown",
      "source": [
        "Dictionary is a collection of key-value pairs.\n",
        "key are sort of like indexes as in lists, and corresponding to them there is a value. Dictionaries are initialised as ``D={}``. \\\\\n",
        "Dictionary operations : \\\\\n",
        "  - adds an entry: ``D['A'] = 'a'``\n",
        "  - test if key already in dictionary: ``'A' in D``\n",
        "  - Delete entry: ``del(D['A'])``\n",
        "  - get an iterable that acts like a tuple of all keys: ``D.keys()``\n",
        "  - get an iterable that acts like a tuple of all values: ``D.values()``\n",
        "Values can be anytype or anything however, the keys need to be unique and immutable (ints,floats,str,tuples,booleans)."
      ],
      "metadata": {
        "id": "bFhSBV8w7AZx"
      }
    },
    {
      "cell_type": "markdown",
      "source": [
        "## 7. Testing, Debugging, Exceptions, and Assertions"
      ],
      "metadata": {
        "id": "WoIpyXhaBmXk"
      }
    },
    {
      "cell_type": "markdown",
      "source": [
        "### Types of testing"
      ],
      "metadata": {
        "id": "RIAkjZY2SBBL"
      }
    },
    {
      "cell_type": "markdown",
      "source": [
        "- Unit Testing: \\\\\n",
        "  Validate each piece of program, testing each function separately.\n",
        "- Regression Testing: \\\\\n",
        "  Add tests for bugs as you find them\n",
        "- Integration Testing: \\\\\n",
        "  Testing whether the overall program works"
      ],
      "metadata": {
        "id": "j6Uz3ewwBqxu"
      }
    },
    {
      "cell_type": "markdown",
      "source": [
        "- Black Box Testing: \\\\\n",
        "This is dcesigned without looking at the code, can be done by someone except the implementer to remove implementer biases. testing can be reused if implementation changes. Build tests cases based on natural space partitions, boundary values etc.\n",
        "- Glass Box Testing: \\\\\n",
        "Use code directly to guide test cases designing. Called path-completed if every potential path through code is tested atleast once. however, there is a drawback to this testing, as we encounter loops it can through them arbitrarily many times. There are some guidelines for loops."
      ],
      "metadata": {
        "id": "yRW_ETM2R4jk"
      }
    },
    {
      "cell_type": "markdown",
      "source": [
        "Read error messages, print statement is a nic debugging tool. use rubber-duck debugging method. Dont directly jump into debugging entire program have a backup before changing the program.\n",
        "\n"
      ],
      "metadata": {
        "id": "Ow905B6cT2Ep"
      }
    },
    {
      "cell_type": "markdown",
      "source": [
        "### Exceptions"
      ],
      "metadata": {
        "id": "RuJvz9gi4C1r"
      }
    },
    {
      "cell_type": "markdown",
      "source": [
        "Python code can provide handlers for errors. Exceptions raised by any statement in body of ``try`` are handled by the ``except`` statement and execution continues with the body of the ``except`` statement.\n",
        "\n",
        "```python\n",
        "try:\n",
        "    a = int(input(\"Tell me one number: \"))\n",
        "    b = int(input(\"Tell me another number: \"))\n",
        "    print(\"a/b = \", a/b)\n",
        "except:\n",
        "    print(\"Bug in user input.\")\n",
        "```\n",
        "We can also have separate ``except`` clauses to deal with particular type of error, as shown below:\n",
        "```python\n",
        "try:\n",
        "    a = int(input(\"Tell me one number: \"))\n",
        "    b = int(input(\"Tell me another number: \"))\n",
        "    print(\"a/b = \", a/b)\n",
        "    print(\"a+b = \", a+b)\n",
        "except ValueError:\n",
        "    print(\"Could not convert to a number.\")\n",
        "except ZeroDivisionError:\n",
        "    print(\"Can't divide by zero\")\n",
        "except:\n",
        "    print(\"Something went very wrong.\")\n",
        "```\n",
        "The ``else`` block here, is executed when execution of the associated ``try`` body completes with no exceptions. the ``finally`` block is always executed after ``try``,``else`` and ``except`` clauses, even if they raised another error or executed a ``break``,``continue`` or ``return``. We can also ``raise`` an error.\n",
        "\n"
      ],
      "metadata": {
        "id": "3bydZSAk4Qt5"
      }
    },
    {
      "cell_type": "code",
      "source": [
        "def get_ratios(L1, L2):\n",
        "    \"\"\" Assumes: L1 and L2 are lists of equal length of numbers\n",
        "        Returns: a list containing L1[i]/L2[i] \"\"\"\n",
        "    ratios = []\n",
        "    for index in range(len(L1)):\n",
        "        try:\n",
        "            ratios.append(L1[index]/L2[index])\n",
        "        except ZeroDivisionError:\n",
        "            ratios.append(float('nan')) #nan = Not a Number\n",
        "        except:\n",
        "            raise ValueError('get_ratios called with bad arg')\n",
        "        else:\n",
        "            print(\"success\")\n",
        "        finally:\n",
        "            print(\"executed no matter what!\")\n",
        "    return ratios\n",
        "    \n",
        "print(get_ratios([1, 4], [2, 4]))"
      ],
      "metadata": {
        "id": "xCbdfd2e62l6"
      },
      "execution_count": null,
      "outputs": []
    },
    {
      "cell_type": "markdown",
      "source": [
        "Assertions: If assertion condition is False, then it raises ``AssertionError``"
      ],
      "metadata": {
        "id": "cLgN5A3C64Q5"
      }
    },
    {
      "cell_type": "code",
      "source": [
        "def get_stats(class_list):\n",
        "\tnew_stats = []\n",
        "\tfor person in class_list:\n",
        "\t\tnew_stats.append([person[0], person[1], avg(person[1])])\n",
        "\treturn new_stats \n",
        "\n",
        "# avg function: version without an exception\n",
        "#def avg(grades):\n",
        "#    return (sum(grades))/len(grades)\n",
        "    \n",
        "# avg function: version with an exception\n",
        "def avg(grades):\n",
        "    try:\n",
        "        return sum(grades)/len(grades)\n",
        "    except ZeroDivisionError:\n",
        "        print('warning: no grades data')\n",
        "        return 0.0\n",
        "\n",
        "\n",
        "# avg function: version with assert\n",
        "def avg(grades):\n",
        "    assert len(grades) != 0, 'warning: no grades data'\n",
        "    return sum(grades)/len(grades)\n",
        "\n",
        "    \n",
        "test_grades = [[['peter', 'parker'], [80.0, 70.0, 85.0]], \n",
        "              [['bruce', 'wayne'], [100.0, 80.0, 74.0]],\n",
        "              [['captain', 'america'], [80.0, 70.0, 96.0]],\n",
        "              [['deadpool'], []]]\n",
        "\n",
        "print(get_stats(test_grades))"
      ],
      "metadata": {
        "id": "ufOdeQXtB4G1"
      },
      "execution_count": null,
      "outputs": []
    },
    {
      "cell_type": "markdown",
      "source": [
        "## 8. Object Oriented Programming"
      ],
      "metadata": {
        "id": "3moLuxPmGFbX"
      }
    },
    {
      "cell_type": "markdown",
      "source": [
        "### Class"
      ],
      "metadata": {
        "id": "8g_ep-qAHK8a"
      }
    },
    {
      "cell_type": "markdown",
      "source": [
        "Use the ``class`` keyword to define a new type of object.\n",
        "```python\n",
        "class coordinate(object):\n",
        "  #define attributes here\n",
        "```\n",
        "- similar to ``def``, indent code to indicate which statemenets are part of the class definition. \n",
        "- the word object means that ``coordinate`` is a python object  and <font color=\t#FF66CC> **inherits** </font>  all its attributes. (inheritance next lecture)\n",
        "  - ``coordinate`` is a sub calss of ``objects``\n",
        "  - ``objects`` is a super class of ``coordinate``\n",
        "\n",
        "\n",
        "\n"
      ],
      "metadata": {
        "id": "sASgTQUt3a6K"
      }
    },
    {
      "cell_type": "markdown",
      "source": [],
      "metadata": {
        "id": "kQCN-WqqV5rf"
      }
    }
  ]
}
